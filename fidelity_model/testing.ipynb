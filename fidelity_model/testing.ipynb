{
 "cells": [
  {
   "cell_type": "code",
   "execution_count": 50,
   "metadata": {},
   "outputs": [],
   "source": [
    "from fidelity_model import FidelityModel, fidelity_pqc_gen\n",
    "import pandas as pd\n",
    "from tqdm import tqdm\n",
    "import numpy as np"
   ]
  },
  {
   "cell_type": "code",
   "execution_count": 17,
   "metadata": {},
   "outputs": [],
   "source": [
    "def read_file(path, displayname=\"\"):\n",
    "    print(f\"Reading {displayname}...\", end=\"\")\n",
    "    csvfile = pd.read_csv(path)\n",
    "    pairs = [[pair['sentence_1'], pair['sentence_2']] for i,pair in csvfile.iterrows()]\n",
    "    labels = [pair['label'] for i,pair in csvfile.iterrows()]\n",
    "    print(\"Done\")\n",
    "    return pairs[:500], labels[:500]"
   ]
  },
  {
   "cell_type": "code",
   "execution_count": 36,
   "metadata": {},
   "outputs": [
    {
     "name": "stdout",
     "output_type": "stream",
     "text": [
      "Reading Train Data...Done\n",
      "Reading Val Data...Done\n"
     ]
    }
   ],
   "source": [
    "train_pairs, train_labels = read_file(f\"model_training/data/train_data.csv\", \"Train Data\")\n",
    "val_pairs, val_labels = read_file(f\"model_training/data/val_data.csv\", \"Val Data\")"
   ]
  },
  {
   "cell_type": "code",
   "execution_count": 19,
   "metadata": {},
   "outputs": [],
   "source": [
    "def generate_circuits(pairs, language_model, description=\"Generating Circuits\"):\n",
    "    progress_bar = tqdm(pairs, bar_format=\"{desc}{percentage:3.0f}%|{bar:25}{r_bar}\")\n",
    "    progress_bar.set_description(description)\n",
    "    circuits = [fidelity_pqc_gen(sentence_1, sentence_2, language_model) for sentence_1, sentence_2 in progress_bar]\n",
    "    return circuits"
   ]
  },
  {
   "cell_type": "code",
   "execution_count": 20,
   "metadata": {},
   "outputs": [
    {
     "name": "stderr",
     "output_type": "stream",
     "text": [
      "Generating Train Circuits: 100%|█████████████████████████| 500/500 [10:44<00:00,  1.29s/it]\n",
      "Generating Val Circuits: 100%|█████████████████████████| 100/100 [02:08<00:00,  1.29s/it]\n"
     ]
    }
   ],
   "source": [
    "train_circuits = generate_circuits(train_pairs, 1, \"Generating Train Circuits\")\n",
    "val_circuits = generate_circuits(val_pairs, 1, \"Generating Val Circuits\")"
   ]
  },
  {
   "cell_type": "markdown",
   "metadata": {},
   "source": [
    "## SBERT Similarities"
   ]
  },
  {
   "cell_type": "code",
   "execution_count": null,
   "metadata": {},
   "outputs": [],
   "source": [
    "model = FidelityModel()\n",
    "model.load(\"model_training/runs/a-1.0-DisCoCat-120_epochs_similarity/best_model.lt\")"
   ]
  },
  {
   "cell_type": "code",
   "execution_count": 56,
   "metadata": {},
   "outputs": [
    {
     "name": "stdout",
     "output_type": "stream",
     "text": [
      "Train Correlation\n",
      " [[1.         0.80701653]\n",
      " [0.80701653 1.        ]]\n",
      "Val Correlation\n",
      " [[1.         0.79642708]\n",
      " [0.79642708 1.        ]]\n"
     ]
    }
   ],
   "source": [
    "train_output = model(train_circuits)\n",
    "val_output = model(val_circuits)\n",
    "print(f\"Train Correlation\\n {np.corrcoef(train_labels, train_output)}\")\n",
    "print(f\"Val Correlation\\n {np.corrcoef(val_labels, val_output)}\")"
   ]
  },
  {
   "cell_type": "code",
   "execution_count": 87,
   "metadata": {},
   "outputs": [
    {
     "name": "stdout",
     "output_type": "stream",
     "text": [
      "Train Accuracy: 0.33\n",
      "Val Accuracy: 0.33\n"
     ]
    }
   ],
   "source": [
    "THRESHOLD = 0.1\n",
    "print(f\"Train Accuracy: {np.count_nonzero(np.abs(train_labels-train_output) < THRESHOLD)/500}\")\n",
    "print(f\"Val Accuracy: {np.count_nonzero(np.abs(val_labels-val_output) < THRESHOLD)/100}\")"
   ]
  }
 ],
 "metadata": {
  "kernelspec": {
   "display_name": "QNLP",
   "language": "python",
   "name": "python3"
  },
  "language_info": {
   "codemirror_mode": {
    "name": "ipython",
    "version": 3
   },
   "file_extension": ".py",
   "mimetype": "text/x-python",
   "name": "python",
   "nbconvert_exporter": "python",
   "pygments_lexer": "ipython3",
   "version": "3.12.7"
  }
 },
 "nbformat": 4,
 "nbformat_minor": 2
}
