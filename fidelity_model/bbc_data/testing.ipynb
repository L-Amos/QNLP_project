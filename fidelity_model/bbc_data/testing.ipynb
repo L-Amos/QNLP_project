{
 "cells": [
  {
   "cell_type": "code",
   "execution_count": 3,
   "metadata": {},
   "outputs": [],
   "source": [
    "from fidelity_model import FidelityModel\n",
    "import pandas as pd"
   ]
  },
  {
   "cell_type": "code",
   "execution_count": 45,
   "metadata": {},
   "outputs": [],
   "source": [
    "data = pd.read_csv('dataset.csv')\n",
    "synopses = {id: synopsis for id, synopsis in zip(data['id'], data['synopsis'])}\n",
    "test_data = pd.read_csv(\"user_based_correlations_train.csv\")\n",
    "test_pairs = [[synopses[id1], synopses[id2]] for id1, id2 in zip(test_data['id1'], test_data['id2'])][:500]\n",
    "test_labels = test_data['score'][:500]\n"
   ]
  },
  {
   "cell_type": "code",
   "execution_count": 46,
   "metadata": {},
   "outputs": [],
   "source": [
    "from lambeq import spiders_reader, IQPAnsatz, AtomicType\n",
    "from lambeq.backend.quantum import Ket, H, CX, Controlled, X, Id, Discard\n",
    "\n",
    "def fidelity_pqc_gen(sentence_1, sentence_2):\n",
    "    # # Turn into PQCs using bag-of-words\n",
    "    sentence_1_diagram = spiders_reader.sentence2diagram(sentence_1)\n",
    "    sentence_2_diagram = spiders_reader.sentence2diagram(sentence_2)\n",
    "    ansatz = IQPAnsatz({AtomicType.NOUN: 1, AtomicType.SENTENCE: 1}, n_layers=1, n_single_qubit_params=3)\n",
    "    iqp = ansatz(sentence_1_diagram @ sentence_2_diagram)\n",
    "    control = Ket(0) >> H\n",
    "    fidelity_pqc =  iqp @ control\n",
    "    CCX = Controlled(Controlled(X, distance=-1), distance=-1)\n",
    "    fidelity_pqc >>= CX @ Id(1) >> CCX >> CX @ Id(1) >> Discard() @ Discard() @ H  # Swap Test\n",
    "    return fidelity_pqc"
   ]
  },
  {
   "cell_type": "code",
   "execution_count": 47,
   "metadata": {},
   "outputs": [],
   "source": [
    "test_circuits = [fidelity_pqc_gen(sentence_1, sentence_2) for sentence_1, sentence_2 in test_pairs[:500]]"
   ]
  },
  {
   "cell_type": "code",
   "execution_count": 16,
   "metadata": {},
   "outputs": [],
   "source": [
    "model = FidelityModel()\n",
    "model.load(\"runs/500_train_500_val_500_epochs/best_model.lt\")"
   ]
  },
  {
   "cell_type": "code",
   "execution_count": 48,
   "metadata": {},
   "outputs": [],
   "source": [
    "calculated_labels = model(test_circuits)"
   ]
  },
  {
   "cell_type": "code",
   "execution_count": 66,
   "metadata": {},
   "outputs": [],
   "source": [
    "import numpy as np\n",
    "errors = [200*(prediction-real)/(prediction+real) for prediction, real in zip(calculated_labels, test_labels)]  # RPD As Percentage"
   ]
  },
  {
   "cell_type": "code",
   "execution_count": 69,
   "metadata": {},
   "outputs": [
    {
     "data": {
      "text/plain": [
       "np.float64(-143.77864445768705)"
      ]
     },
     "execution_count": 69,
     "metadata": {},
     "output_type": "execute_result"
    }
   ],
   "source": [
    "np.mean(200*(calculated_labels-test_labels)/(calculated_labels+test_labels))"
   ]
  },
  {
   "cell_type": "code",
   "execution_count": 67,
   "metadata": {},
   "outputs": [
    {
     "data": {
      "text/plain": [
       "np.float64(-143.77864445768705)"
      ]
     },
     "execution_count": 67,
     "metadata": {},
     "output_type": "execute_result"
    }
   ],
   "source": [
    "np.mean(errors)"
   ]
  }
 ],
 "metadata": {
  "kernelspec": {
   "display_name": "QNLP",
   "language": "python",
   "name": "python3"
  },
  "language_info": {
   "codemirror_mode": {
    "name": "ipython",
    "version": 3
   },
   "file_extension": ".py",
   "mimetype": "text/x-python",
   "name": "python",
   "nbconvert_exporter": "python",
   "pygments_lexer": "ipython3",
   "version": "3.12.7"
  }
 },
 "nbformat": 4,
 "nbformat_minor": 2
}
