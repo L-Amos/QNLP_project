{
 "cells": [
  {
   "cell_type": "markdown",
   "metadata": {},
   "source": [
    "# Fidelity Function Timing\n",
    "The purpose of this notebook is to easily measure the execution time of the functions in [the fidelity evaluation code](../src/fidelity_accuracy_evaluator.py). This is because currently it takes a long time to execute, and as I attempt to optimize the code I need a good way of determining the effect of my optimizations."
   ]
  },
  {
   "cell_type": "code",
   "execution_count": 39,
   "metadata": {},
   "outputs": [],
   "source": [
    "import fidelity_accuracy_evaluator as fae"
   ]
  },
  {
   "cell_type": "markdown",
   "metadata": {},
   "source": [
    "### Loading the Model (LAMBEQ)"
   ]
  },
  {
   "cell_type": "code",
   "execution_count": 9,
   "metadata": {},
   "outputs": [
    {
     "name": "stdout",
     "output_type": "stream",
     "text": [
      "1.09 ms ± 14.1 μs per loop (mean ± std. dev. of 7 runs, 1,000 loops each)\n"
     ]
    }
   ],
   "source": [
    "ROOT_PATH = r\"C:\\Users\\Luke\\OneDrive\\Documents\\Uni Stuff\\Master's\\NLP Project\\QNLP_project\"\n",
    "%timeit fae.load_model(ROOT_PATH + r\"\\testing\\model.lt\")"
   ]
  },
  {
   "cell_type": "markdown",
   "metadata": {},
   "source": [
    "### Loading the Model (BERT)"
   ]
  },
  {
   "cell_type": "code",
   "execution_count": 13,
   "metadata": {},
   "outputs": [
    {
     "name": "stdout",
     "output_type": "stream",
     "text": [
      "972 ms ± 19.3 ms per loop (mean ± std. dev. of 7 runs, 1 loop each)\n"
     ]
    }
   ],
   "source": [
    "%timeit fae.SentenceTransformer(\"all-MiniLM-L6-v2\")"
   ]
  },
  {
   "cell_type": "markdown",
   "metadata": {},
   "source": [
    "### Loading the Data"
   ]
  },
  {
   "cell_type": "code",
   "execution_count": 11,
   "metadata": {},
   "outputs": [
    {
     "name": "stdout",
     "output_type": "stream",
     "text": [
      "342 μs ± 6.84 μs per loop (mean ± std. dev. of 7 runs, 1,000 loops each)\n"
     ]
    }
   ],
   "source": [
    "test_path = ROOT_PATH + r\"\\testing\\data\\test_data.txt\"\n",
    "train_path = ROOT_PATH + r\"\\testing\\data\\training_data.txt\"\n",
    "%timeit fae.ingest(test_path, train_path)"
   ]
  },
  {
   "cell_type": "markdown",
   "metadata": {},
   "source": [
    "### Ranking Train Sentences for 1 Test Sentence (BERT)"
   ]
  },
  {
   "cell_type": "code",
   "execution_count": 17,
   "metadata": {},
   "outputs": [
    {
     "name": "stdout",
     "output_type": "stream",
     "text": [
      "527 ms ± 26.4 ms per loop (mean ± std. dev. of 7 runs, 1 loop each)\n"
     ]
    }
   ],
   "source": [
    "bert_model = fae.SentenceTransformer(\"all-MiniLM-L6-v2\")\n",
    "test_path = ROOT_PATH + r\"\\testing\\data\\test_data.txt\"\n",
    "train_path = ROOT_PATH + r\"\\testing\\data\\training_data.txt\"\n",
    "test_data, train_data = fae.ingest(test_path, train_path)\n",
    "\n",
    "test_sentence = list(test_data.keys())[0]\n",
    "%timeit fae.get_bert_rankings({}, test_sentence, list(train_data.keys()), bert_model)"
   ]
  },
  {
   "cell_type": "markdown",
   "metadata": {},
   "source": [
    "### Ranking Train Sentences for 1 Test Sentence (LAMBEQ )"
   ]
  },
  {
   "cell_type": "code",
   "execution_count": 28,
   "metadata": {},
   "outputs": [
    {
     "name": "stdout",
     "output_type": "stream",
     "text": [
      "1min 23s ± 0 ns per loop (mean ± std. dev. of 1 run, 1 loop each)\n"
     ]
    }
   ],
   "source": [
    "lambeq_model=fae.load_model(ROOT_PATH + r\"\\testing\\model.lt\")\n",
    "%timeit -n1 -r1 fae.get_lambeq_rankings({}, test_sentence, list(train_data.keys()), lambeq_model)"
   ]
  }
 ],
 "metadata": {
  "kernelspec": {
   "display_name": "QNLP",
   "language": "python",
   "name": "python3"
  },
  "language_info": {
   "codemirror_mode": {
    "name": "ipython",
    "version": 3
   },
   "file_extension": ".py",
   "mimetype": "text/x-python",
   "name": "python",
   "nbconvert_exporter": "python",
   "pygments_lexer": "ipython3",
   "version": "3.12.7"
  }
 },
 "nbformat": 4,
 "nbformat_minor": 2
}
