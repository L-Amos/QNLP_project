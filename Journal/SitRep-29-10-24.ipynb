{
 "cells": [
  {
   "cell_type": "markdown",
   "metadata": {},
   "source": [
    "# Situation Report: 29th October 2024\n",
    "I have a meeting with my supervisor tomorrow, the first one since starting work on this project. As a result, a lot of things have happened; it is sensible, I think, to go through everything I've done so far and explain my reasoning for each step, to ensure it is well-organised in my mind before I speak to her about it. I will also go through what problems I currently face, and a rough roadmap for where I see this project going. Note: I have decided to write this in a Jupyter notebook, as it allows me to more explicitly talk through what code I have done."
   ]
  },
  {
   "cell_type": "markdown",
   "metadata": {},
   "source": [
    "## Progress Up To This Point\n",
    "### Overview\n",
    "My progress up to this point can be broken up into a series of bullet points, all of which will be explained fully in their own sections. So far I have:\n",
    "\n",
    "- Created a very simple swap test circuit for fidelity evaluation and tested it briefly.\n",
    "- Trained a Lambeq model using the `mc_train` and `mc_dev` data found in the [lambeq docs](https://github.com/CQCL/lambeq-docs/tree/main/docs/examples/datasets) and evaluated its accuracy using the `mc_test` data found in the same location.\n",
    "- Written a function to parse a sentence through the trained model and extract the resulting quantum circuit.\n",
    "- Written a function which composes the quantum circuits of two sentences and adds a swap test circuit to test the fidelity between the sentence qubits.\n",
    "- Written a function to rank the similarity of sentences using both my lambeq model and a pre-tested BERT model.\n",
    "- Implemented a vague arbitrary NDCG calculation to quantifiably evaluate the rankings of my model against the rankings of the BERT model."
   ]
  },
  {
   "cell_type": "markdown",
   "metadata": {},
   "source": [
    "## Current Challenges"
   ]
  },
  {
   "cell_type": "markdown",
   "metadata": {},
   "source": [
    "## Roadmap For The Future"
   ]
  }
 ],
 "metadata": {
  "language_info": {
   "name": "python"
  }
 },
 "nbformat": 4,
 "nbformat_minor": 2
}
