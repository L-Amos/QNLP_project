{
 "cells": [
  {
   "cell_type": "markdown",
   "metadata": {},
   "source": [
    "# Testing a Model\n",
    "The purpose of this notebook is to quantitatively test trained model using test data to ensure training has occurred correctly. Test data was obtained from [the lambeq docs](https://github.com/CQCL/lambeq-docs/blob/main/docs/examples/datasets/mc_test_data.txt)."
   ]
  },
  {
   "cell_type": "code",
   "execution_count": 2,
   "metadata": {},
   "outputs": [],
   "source": [
    "from lambeq import Model, RemoveCupsRewriter, BobcatParser, AtomicType, IQPAnsatz\n",
    "from pytket.extensions.qiskit import AerBackend\n",
    "import numpy as np"
   ]
  },
  {
   "cell_type": "markdown",
   "metadata": {},
   "source": [
    "First we define an accuracy-measurement function, which computes the accuracy of the model."
   ]
  },
  {
   "cell_type": "code",
   "execution_count": 3,
   "metadata": {},
   "outputs": [],
   "source": [
    "def accuracy(labels, results):\n",
    "    correct_answers = np.sum([np.round(results[i]) == label for i, label in enumerate(labels)])  # Find the number of correct answers\n",
    "    accuracy = correct_answers/(2*len(labels))  # Factor of 2 because the np.round() causes double-counting\n",
    "    return accuracy"
   ]
  },
  {
   "cell_type": "markdown",
   "metadata": {},
   "source": [
    "Next, load the model from the saved checkpoints."
   ]
  },
  {
   "cell_type": "code",
   "execution_count": 6,
   "metadata": {},
   "outputs": [
    {
     "ename": "TypeError",
     "evalue": "Can't instantiate abstract class Model without an implementation for abstract methods '_load_checkpoint', '_make_checkpoint', 'forward', 'get_diagram_output', 'initialise_weights'",
     "output_type": "error",
     "traceback": [
      "\u001b[1;31m---------------------------------------------------------------------------\u001b[0m",
      "\u001b[1;31mTypeError\u001b[0m                                 Traceback (most recent call last)",
      "Cell \u001b[1;32mIn[6], line 8\u001b[0m\n\u001b[0;32m      1\u001b[0m backend \u001b[38;5;241m=\u001b[39m AerBackend()\n\u001b[0;32m      2\u001b[0m backend_config \u001b[38;5;241m=\u001b[39m {\n\u001b[0;32m      3\u001b[0m     \u001b[38;5;124m'\u001b[39m\u001b[38;5;124mbackend\u001b[39m\u001b[38;5;124m'\u001b[39m: backend,\n\u001b[0;32m      4\u001b[0m     \u001b[38;5;124m'\u001b[39m\u001b[38;5;124mcompilation\u001b[39m\u001b[38;5;124m'\u001b[39m: backend\u001b[38;5;241m.\u001b[39mdefault_compilation_pass(\u001b[38;5;241m2\u001b[39m),\n\u001b[0;32m      5\u001b[0m     \u001b[38;5;124m'\u001b[39m\u001b[38;5;124mshots\u001b[39m\u001b[38;5;124m'\u001b[39m: \u001b[38;5;241m1024\u001b[39m\n\u001b[0;32m      6\u001b[0m }\n\u001b[1;32m----> 8\u001b[0m model \u001b[38;5;241m=\u001b[39m \u001b[43mModel\u001b[49m\u001b[43m(\u001b[49m\u001b[43m)\u001b[49m\n\u001b[0;32m      9\u001b[0m model\u001b[38;5;241m.\u001b[39mload(\u001b[38;5;124m\"\u001b[39m\u001b[38;5;124mmodel.lt\u001b[39m\u001b[38;5;124m\"\u001b[39m)\n",
      "\u001b[1;31mTypeError\u001b[0m: Can't instantiate abstract class Model without an implementation for abstract methods '_load_checkpoint', '_make_checkpoint', 'forward', 'get_diagram_output', 'initialise_weights'"
     ]
    }
   ],
   "source": [
    "backend = AerBackend()\n",
    "backend_config = {\n",
    "    'backend': backend,\n",
    "    'compilation': backend.default_compilation_pass(2),\n",
    "    'shots': 1024\n",
    "}\n",
    "\n",
    "model = Model()\n",
    "model.from_checkpoint(\"model.lt\")"
   ]
  },
  {
   "cell_type": "markdown",
   "metadata": {},
   "source": [
    "Next, we parse the test data and turn them into DisCoCat diagrams."
   ]
  },
  {
   "cell_type": "code",
   "execution_count": 43,
   "metadata": {},
   "outputs": [
    {
     "data": {
      "application/vnd.jupyter.widget-view+json": {
       "model_id": "4423228a3bab430a83f66bbb06c2a2e8",
       "version_major": 2,
       "version_minor": 0
      },
      "text/plain": [
       "Tagging sentences:   0%|          | 0/8 [00:00<?, ?it/s]"
      ]
     },
     "metadata": {},
     "output_type": "display_data"
    },
    {
     "data": {
      "application/vnd.jupyter.widget-view+json": {
       "model_id": "24c6e045fb24472fa49b3fcc071c01cf",
       "version_major": 2,
       "version_minor": 0
      },
      "text/plain": [
       "Parsing tagged sentences:   0%|          | 0/30 [00:00<?, ?it/s]"
      ]
     },
     "metadata": {},
     "output_type": "display_data"
    },
    {
     "data": {
      "application/vnd.jupyter.widget-view+json": {
       "model_id": "17b1c28acb3742338b8691dca39e52c8",
       "version_major": 2,
       "version_minor": 0
      },
      "text/plain": [
       "Parse trees to diagrams:   0%|          | 0/30 [00:00<?, ?it/s]"
      ]
     },
     "metadata": {},
     "output_type": "display_data"
    }
   ],
   "source": [
    "# Read File\n",
    "labels, sentences = [], []\n",
    "with open(\"data/test_data.txt\") as f:\n",
    "    for line in f:\n",
    "        t = int(line[0])  # Either 0 or 1 depending on whether about food or IT\n",
    "        labels.append([t, 1-t])  # Converting to 2D array\n",
    "        sentences.append(line[1:].strip())\n",
    "\n",
    "# Create diagrams\n",
    "parser = BobcatParser()\n",
    "remove_cups = RemoveCupsRewriter()\n",
    "\n",
    "test_diagrams = [remove_cups(diagram) for diagram in parser.sentences2diagrams(sentences)]"
   ]
  },
  {
   "cell_type": "markdown",
   "metadata": {},
   "source": [
    "Finally, we convert the diagrams to ansatz PQCs, feed our them into the model and evaluate the model's performance using the function defined above."
   ]
  },
  {
   "cell_type": "code",
   "execution_count": 55,
   "metadata": {},
   "outputs": [
    {
     "name": "stdout",
     "output_type": "stream",
     "text": [
      "Accuracy is 0.8666666666666667\n"
     ]
    }
   ],
   "source": [
    "# Convert ot circuit diagrams\n",
    "ansatz = IQPAnsatz({AtomicType.NOUN: 1, AtomicType.SENTENCE: 1}, n_layers=1, n_single_qubit_params=3)\n",
    "test_circuits= [ansatz(diagram) for diagram in test_diagrams]\n",
    "\n",
    "# Feed into model + evaluate accuracy\n",
    "acc = accuracy(labels, model(test_circuits))\n",
    "print(f'Accuracy is {acc}')"
   ]
  }
 ],
 "metadata": {
  "kernelspec": {
   "display_name": "QNLP",
   "language": "python",
   "name": "python3"
  },
  "language_info": {
   "codemirror_mode": {
    "name": "ipython",
    "version": 3
   },
   "file_extension": ".py",
   "mimetype": "text/x-python",
   "name": "python",
   "nbconvert_exporter": "python",
   "pygments_lexer": "ipython3",
   "version": "3.12.7"
  }
 },
 "nbformat": 4,
 "nbformat_minor": 2
}
