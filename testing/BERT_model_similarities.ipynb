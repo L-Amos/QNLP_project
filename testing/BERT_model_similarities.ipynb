{
 "cells": [
  {
   "cell_type": "markdown",
   "metadata": {},
   "source": [
    "# BERT Model Similarities\n",
    "The purpose of this notebook is to use a BERT model to compute the similarity between two sentences, as explained in Entry 1 of [today's Journal page](../Journal/23_10_24.md).\n",
    "\n",
    "Everything is done through the `sentence-transformers` module."
   ]
  },
  {
   "cell_type": "code",
   "execution_count": 2,
   "metadata": {},
   "outputs": [],
   "source": [
    "from sentence_transformers import SentenceTransformer, util"
   ]
  },
  {
   "cell_type": "markdown",
   "metadata": {},
   "source": [
    "Next, we load the model. There are a [wide range of models available](https://www.sbert.net/docs/sentence_transformer/pretrained_models.html), but for now we choose **all-MiniLM-L6-v2**, as it is trained on all available training data but is faster than the full model, with a slight reduction in quality. Nevertheless, it has been extensively evaluated."
   ]
  },
  {
   "cell_type": "code",
   "execution_count": 4,
   "metadata": {},
   "outputs": [],
   "source": [
    "model = SentenceTransformer(\"all-MiniLM-L6-v2\")"
   ]
  },
  {
   "cell_type": "markdown",
   "metadata": {},
   "source": [
    "Now we simply tokenize two sentences and return their similarity:"
   ]
  },
  {
   "cell_type": "code",
   "execution_count": 14,
   "metadata": {},
   "outputs": [
    {
     "name": "stdout",
     "output_type": "stream",
     "text": [
      "0.1496574580669403\n"
     ]
    }
   ],
   "source": [
    "sentence_1 = \"woman prepares sauce .\"\n",
    "sentence_2 = \"skillful person runs software .\"\n",
    "embeddings = model.encode([sentence_1, sentence_2])\n",
    "similarity = util.pytorch_cos_sim(embeddings[0], embeddings[1])\n",
    "print(float(similarity))"
   ]
  }
 ],
 "metadata": {
  "kernelspec": {
   "display_name": "QNLP",
   "language": "python",
   "name": "python3"
  },
  "language_info": {
   "codemirror_mode": {
    "name": "ipython",
    "version": 3
   },
   "file_extension": ".py",
   "mimetype": "text/x-python",
   "name": "python",
   "nbconvert_exporter": "python",
   "pygments_lexer": "ipython3",
   "version": "3.12.7"
  }
 },
 "nbformat": 4,
 "nbformat_minor": 2
}
