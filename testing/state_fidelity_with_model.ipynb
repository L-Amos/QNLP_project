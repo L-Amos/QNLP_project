{
 "cells": [
  {
   "cell_type": "markdown",
   "metadata": {},
   "source": [
    "# Testing Fidelity With Trained Model\n",
    "The purpose of this notebook is to experiment with the model trained in [this notebook](training_new_model.ipynb). "
   ]
  }
 ],
 "metadata": {
  "language_info": {
   "name": "python"
  }
 },
 "nbformat": 4,
 "nbformat_minor": 2
}
