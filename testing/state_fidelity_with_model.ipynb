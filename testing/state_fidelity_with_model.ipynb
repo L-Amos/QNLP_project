{
 "cells": [
  {
   "cell_type": "markdown",
   "metadata": {},
   "source": [
    "# Testing Fidelity With Trained Model\n",
    "The purpose of this notebook is to experiment with the model trained in [this notebook](training_new_model.ipynb). Specifically, I will be performing the rough test described in **Entry 1** of [this journal page](../Journal/10_10_24.md)."
   ]
  },
  {
   "cell_type": "code",
   "execution_count": 2,
   "metadata": {},
   "outputs": [
    {
     "name": "stderr",
     "output_type": "stream",
     "text": [
      "c:\\Users\\Luke\\anaconda3\\envs\\QNLP\\Lib\\site-packages\\tqdm\\auto.py:21: TqdmWarning: IProgress not found. Please update jupyter and ipywidgets. See https://ipywidgets.readthedocs.io/en/stable/user_install.html\n",
      "  from .autonotebook import tqdm as notebook_tqdm\n"
     ]
    }
   ],
   "source": [
    "### IMPORTS\n",
    "import warnings\n",
    "import os\n",
    "from lambeq import BobcatParser, RemoveCupsRewriter, AtomicType, IQPAnsatz, TketModel\n",
    "import numpy as np\n",
    "from pytket.extensions.qiskit import AerBackend\n",
    "\n",
    "warnings.filterwarnings(\"ignore\")\n",
    "os.environ[\"TOKENIZERS_PARALLELISM\"] = \"false\""
   ]
  },
  {
   "cell_type": "markdown",
   "metadata": {},
   "source": [
    "First, we configure the backend and initialize a `TketModel` object and load the model from the file saved last time."
   ]
  },
  {
   "cell_type": "code",
   "execution_count": 3,
   "metadata": {},
   "outputs": [],
   "source": [
    "backend = AerBackend()\n",
    "backend_config = {\n",
    "    'backend': backend,\n",
    "    'compilation': backend.default_compilation_pass(2),\n",
    "    'shots': 1024\n",
    "}\n",
    "\n",
    "model = TketModel.from_checkpoint(\"model.lt\", backend_config=backend_config)"
   ]
  },
  {
   "cell_type": "markdown",
   "metadata": {},
   "source": [
    "We test the model has been loaded properly by parsing it a sentence from the training set, and ensuring the output is as expected."
   ]
  },
  {
   "cell_type": "code",
   "execution_count": 4,
   "metadata": {},
   "outputs": [
    {
     "name": "stdout",
     "output_type": "stream",
     "text": [
      "Expected outcome: [0, 1]\n",
      "Actual Outcome: [0.00321543 0.99678457]\n"
     ]
    }
   ],
   "source": [
    "\n",
    "# Read Training Data\n",
    "def read_data(filename):\n",
    "    labels, sentences = [], []\n",
    "    with open(filename) as f:\n",
    "        for line in f:\n",
    "            t = int(line[0])  # Either 0 or 1 depending on whether about food or IT\n",
    "            labels.append([t, 1-t])  # Converting to 2D array\n",
    "            sentences.append(line[1:].strip())\n",
    "    return labels, sentences\n",
    "\n",
    "train_labels, train_data = read_data('data/training_data.txt')\n",
    "\n",
    "# Convert to diagram\n",
    "index = 39\n",
    "parser = BobcatParser()\n",
    "remove_cups = RemoveCupsRewriter()\n",
    "train_diagram = remove_cups(parser.sentence2diagram(train_data[index]))\n",
    "# Convert to QC\n",
    "ansatz = IQPAnsatz({AtomicType.NOUN: 1, AtomicType.SENTENCE: 1}, n_layers=1, n_single_qubit_params=3)\n",
    "train_circuit = [ansatz(train_diagram)]\n",
    "# Parse to model + compare result with expected\n",
    "outcome = model(train_circuit)\n",
    "print(f\"Expected outcome: {train_labels[index]}\\nActual Outcome: {outcome[0]}\")"
   ]
  },
  {
   "cell_type": "markdown",
   "metadata": {},
   "source": [
    "We can see that the model has loaded correctly. Next we test the fidelity of a few select sentences."
   ]
  },
  {
   "cell_type": "code",
   "execution_count": 7,
   "metadata": {},
   "outputs": [],
   "source": [
    "sentence = \"woman prepares sauce .\"\n",
    "sentence_mod = \"woman prepares tasty sauce .\"\n",
    "\n",
    "sentence_diagram = remove_cups(parser.sentence2diagram(sentence))\n",
    "sentence_mod_diagram = remove_cups(parser.sentence2diagram(sentence_mod))\n",
    "sentence_circuit = ansatz(sentence_diagram)\n",
    "\n",
    "sentence_mod_circuit = ansatz(sentence_mod_diagram)\n",
    "sentence_state, sentence_mod_state = model([sentence_circuit, sentence_mod_circuit])  # Retrieve state vectors\n",
    "\n",
    "sentence_state = sentence_state/np.linalg.norm(sentence_state)  # Normalize\n",
    "sentence_mod_state = sentence_mod_state/np.linalg.norm(sentence_mod_state)  # Normalize\n"
   ]
  },
  {
   "cell_type": "code",
   "execution_count": 8,
   "metadata": {},
   "outputs": [
    {
     "data": {
      "image/png": "[encoded data removed]",
      "text/plain": [
       "<Figure size 538.33x367.889 with 1 Axes>"
      ]
     },
     "execution_count": 8,
     "metadata": {},
     "output_type": "execute_result"
    }
   ],
   "source": [
    "from qiskit import QuantumCircuit\n",
    "\n",
    "qc = QuantumCircuit(3, 1)\n",
    "qc.initialize(sentence_state, 0)\n",
    "qc.initialize(sentence_mod_state, 1)\n",
    "qc.h(0)\n",
    "qc.cswap(0, 1, 2)\n",
    "qc.h(0)\n",
    "qc.draw('mpl')"
   ]
  },
  {
   "cell_type": "code",
   "execution_count": 21,
   "metadata": {},
   "outputs": [
    {
     "name": "stdout",
     "output_type": "stream",
     "text": [
      "Fidelity: 0.604\n"
     ]
    }
   ],
   "source": [
    "from qiskit_aer import AerSimulator\n",
    "\n",
    "qc.measure(0, 0)\n",
    "sim = AerSimulator()\n",
    "job = sim.run(qc)\n",
    "results = job.result()\n",
    "counts = results.get_counts()\n",
    "if '0' and '1' in counts.keys():\n",
    "    fidelity = counts['0']/1000 - counts['1']/1000\n",
    "    print(f'Fidelity: {fidelity}')\n",
    "else:\n",
    "    print(f'Fidelity: 1')"
   ]
  }
 ],
 "metadata": {
  "kernelspec": {
   "display_name": "QNLP",
   "language": "python",
   "name": "python3"
  },
  "language_info": {
   "codemirror_mode": {
    "name": "ipython",
    "version": 3
   },
   "file_extension": ".py",
   "mimetype": "text/x-python",
   "name": "python",
   "nbconvert_exporter": "python",
   "pygments_lexer": "ipython3",
   "version": "3.12.7"
  }
 },
 "nbformat": 4,
 "nbformat_minor": 2
}
