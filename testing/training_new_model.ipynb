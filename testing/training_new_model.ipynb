{
 "cells": [
  {
   "cell_type": "markdown",
   "metadata": {},
   "source": [
    "# Training a Model\n",
    "The purpose of this notebook is to train a lambeq model and then see how that model reacts to new data. The details of the aims are explained in **Entry 1** of [this journal page](/Journal/09_10_24.md)."
   ]
  }
 ],
 "metadata": {
  "language_info": {
   "name": "python"
  }
 },
 "nbformat": 4,
 "nbformat_minor": 2
}
